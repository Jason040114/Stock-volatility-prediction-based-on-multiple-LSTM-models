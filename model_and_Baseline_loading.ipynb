{
 "cells": [
  {
   "cell_type": "code",
   "execution_count": 2,
   "metadata": {},
   "outputs": [],
   "source": [
    "import numpy as np\n",
    "import pandas as pd\n",
    "from sklearn.preprocessing import MinMaxScaler\n",
    "from sklearn.model_selection import train_test_split\n",
    "from tensorflow.keras.models import Sequential\n",
    "from tensorflow.keras.layers import LSTM, Dropout, Dense\n",
    "from plotly.subplots import make_subplots\n",
    "import plotly.graph_objects as go\n",
    "import plotly.io as pi\n",
    "import plotly.express as px\n",
    "import matplotlib.pyplot as plt\n",
    "import datetime\n",
    "from datetime import timedelta"
   ]
  },
  {
   "cell_type": "code",
   "execution_count": 3,
   "metadata": {},
   "outputs": [
    {
     "data": {
      "text/html": [
       "        <script type=\"text/javascript\">\n",
       "        window.PlotlyConfig = {MathJaxConfig: 'local'};\n",
       "        if (window.MathJax && window.MathJax.Hub && window.MathJax.Hub.Config) {window.MathJax.Hub.Config({SVG: {font: \"STIX-Web\"}});}\n",
       "        if (typeof require !== 'undefined') {\n",
       "        require.undef(\"plotly\");\n",
       "        requirejs.config({\n",
       "            paths: {\n",
       "                'plotly': ['https://cdn.plot.ly/plotly-2.32.0.min']\n",
       "            }\n",
       "        });\n",
       "        require(['plotly'], function(Plotly) {\n",
       "            window._Plotly = Plotly;\n",
       "        });\n",
       "        }\n",
       "        </script>\n",
       "        "
      ]
     },
     "metadata": {},
     "output_type": "display_data"
    }
   ],
   "source": [
    "from plotly.offline import init_notebook_mode, iplot\n",
    "init_notebook_mode(connected=True)"
   ]
  },
  {
   "cell_type": "code",
   "execution_count": 4,
   "metadata": {},
   "outputs": [
    {
     "data": {
      "text/html": [
       "<div>\n",
       "<style scoped>\n",
       "    .dataframe tbody tr th:only-of-type {\n",
       "        vertical-align: middle;\n",
       "    }\n",
       "\n",
       "    .dataframe tbody tr th {\n",
       "        vertical-align: top;\n",
       "    }\n",
       "\n",
       "    .dataframe thead th {\n",
       "        text-align: right;\n",
       "    }\n",
       "</style>\n",
       "<table border=\"1\" class=\"dataframe\">\n",
       "  <thead>\n",
       "    <tr style=\"text-align: right;\">\n",
       "      <th></th>\n",
       "      <th>日期</th>\n",
       "      <th>开盘</th>\n",
       "      <th>收盘</th>\n",
       "      <th>最高</th>\n",
       "      <th>最低</th>\n",
       "      <th>成交量</th>\n",
       "      <th>成交额</th>\n",
       "      <th>振幅</th>\n",
       "      <th>涨跌幅</th>\n",
       "      <th>涨跌额</th>\n",
       "      <th>换手率</th>\n",
       "      <th>收益率</th>\n",
       "      <th>波动率</th>\n",
       "    </tr>\n",
       "  </thead>\n",
       "  <tbody>\n",
       "    <tr>\n",
       "      <th>0</th>\n",
       "      <td>2004-02-04</td>\n",
       "      <td>9.88</td>\n",
       "      <td>10.01</td>\n",
       "      <td>10.08</td>\n",
       "      <td>9.85</td>\n",
       "      <td>193975</td>\n",
       "      <td>193900992.0</td>\n",
       "      <td>2.34</td>\n",
       "      <td>1.83</td>\n",
       "      <td>0.18</td>\n",
       "      <td>1.38</td>\n",
       "      <td>0.004983</td>\n",
       "      <td>0.022486</td>\n",
       "    </tr>\n",
       "    <tr>\n",
       "      <th>1</th>\n",
       "      <td>2004-02-05</td>\n",
       "      <td>10.06</td>\n",
       "      <td>10.06</td>\n",
       "      <td>10.28</td>\n",
       "      <td>9.98</td>\n",
       "      <td>174839</td>\n",
       "      <td>176604992.0</td>\n",
       "      <td>3.00</td>\n",
       "      <td>0.50</td>\n",
       "      <td>0.05</td>\n",
       "      <td>1.24</td>\n",
       "      <td>0.043760</td>\n",
       "      <td>0.023390</td>\n",
       "    </tr>\n",
       "    <tr>\n",
       "      <th>2</th>\n",
       "      <td>2004-02-06</td>\n",
       "      <td>10.08</td>\n",
       "      <td>10.51</td>\n",
       "      <td>10.98</td>\n",
       "      <td>9.88</td>\n",
       "      <td>438125</td>\n",
       "      <td>459816992.0</td>\n",
       "      <td>10.93</td>\n",
       "      <td>4.47</td>\n",
       "      <td>0.45</td>\n",
       "      <td>3.11</td>\n",
       "      <td>0.007583</td>\n",
       "      <td>0.021607</td>\n",
       "    </tr>\n",
       "    <tr>\n",
       "      <th>3</th>\n",
       "      <td>2004-02-09</td>\n",
       "      <td>10.54</td>\n",
       "      <td>10.59</td>\n",
       "      <td>10.74</td>\n",
       "      <td>10.42</td>\n",
       "      <td>196300</td>\n",
       "      <td>207036992.0</td>\n",
       "      <td>3.04</td>\n",
       "      <td>0.76</td>\n",
       "      <td>0.08</td>\n",
       "      <td>1.39</td>\n",
       "      <td>0.014065</td>\n",
       "      <td>0.021653</td>\n",
       "    </tr>\n",
       "    <tr>\n",
       "      <th>4</th>\n",
       "      <td>2004-02-10</td>\n",
       "      <td>10.65</td>\n",
       "      <td>10.74</td>\n",
       "      <td>10.95</td>\n",
       "      <td>10.51</td>\n",
       "      <td>232602</td>\n",
       "      <td>249108992.0</td>\n",
       "      <td>4.15</td>\n",
       "      <td>1.42</td>\n",
       "      <td>0.15</td>\n",
       "      <td>1.65</td>\n",
       "      <td>-0.011236</td>\n",
       "      <td>0.022132</td>\n",
       "    </tr>\n",
       "  </tbody>\n",
       "</table>\n",
       "</div>"
      ],
      "text/plain": [
       "           日期     开盘     收盘     最高     最低     成交量          成交额     振幅   涨跌幅  \\\n",
       "0  2004-02-04   9.88  10.01  10.08   9.85  193975  193900992.0   2.34  1.83   \n",
       "1  2004-02-05  10.06  10.06  10.28   9.98  174839  176604992.0   3.00  0.50   \n",
       "2  2004-02-06  10.08  10.51  10.98   9.88  438125  459816992.0  10.93  4.47   \n",
       "3  2004-02-09  10.54  10.59  10.74  10.42  196300  207036992.0   3.04  0.76   \n",
       "4  2004-02-10  10.65  10.74  10.95  10.51  232602  249108992.0   4.15  1.42   \n",
       "\n",
       "    涨跌额   换手率       收益率       波动率  \n",
       "0  0.18  1.38  0.004983  0.022486  \n",
       "1  0.05  1.24  0.043760  0.023390  \n",
       "2  0.45  3.11  0.007583  0.021607  \n",
       "3  0.08  1.39  0.014065  0.021653  \n",
       "4  0.15  1.65 -0.011236  0.022132  "
      ]
     },
     "execution_count": 4,
     "metadata": {},
     "output_type": "execute_result"
    }
   ],
   "source": [
    "stock_data = pd.read_csv('data1.csv')\n",
    "stock_data.head()"
   ]
  },
  {
   "cell_type": "code",
   "execution_count": 5,
   "metadata": {},
   "outputs": [
    {
     "data": {
      "text/html": [
       "<div>\n",
       "<style scoped>\n",
       "    .dataframe tbody tr th:only-of-type {\n",
       "        vertical-align: middle;\n",
       "    }\n",
       "\n",
       "    .dataframe tbody tr th {\n",
       "        vertical-align: top;\n",
       "    }\n",
       "\n",
       "    .dataframe thead th {\n",
       "        text-align: right;\n",
       "    }\n",
       "</style>\n",
       "<table border=\"1\" class=\"dataframe\">\n",
       "  <thead>\n",
       "    <tr style=\"text-align: right;\">\n",
       "      <th></th>\n",
       "      <th>count</th>\n",
       "      <th>mean</th>\n",
       "      <th>std</th>\n",
       "      <th>min</th>\n",
       "      <th>25%</th>\n",
       "      <th>50%</th>\n",
       "      <th>75%</th>\n",
       "      <th>max</th>\n",
       "    </tr>\n",
       "  </thead>\n",
       "  <tbody>\n",
       "    <tr>\n",
       "      <th>开盘</th>\n",
       "      <td>4693.0</td>\n",
       "      <td>1.453420e+01</td>\n",
       "      <td>6.490971e+00</td>\n",
       "      <td>5.090000e+00</td>\n",
       "      <td>1.029000e+01</td>\n",
       "      <td>1.328000e+01</td>\n",
       "      <td>1.697000e+01</td>\n",
       "      <td>4.711000e+01</td>\n",
       "    </tr>\n",
       "    <tr>\n",
       "      <th>收盘</th>\n",
       "      <td>4693.0</td>\n",
       "      <td>1.454824e+01</td>\n",
       "      <td>6.489111e+00</td>\n",
       "      <td>5.100000e+00</td>\n",
       "      <td>1.029000e+01</td>\n",
       "      <td>1.329000e+01</td>\n",
       "      <td>1.698000e+01</td>\n",
       "      <td>4.805000e+01</td>\n",
       "    </tr>\n",
       "    <tr>\n",
       "      <th>最高</th>\n",
       "      <td>4693.0</td>\n",
       "      <td>1.479196e+01</td>\n",
       "      <td>6.665237e+00</td>\n",
       "      <td>5.230000e+00</td>\n",
       "      <td>1.041000e+01</td>\n",
       "      <td>1.350000e+01</td>\n",
       "      <td>1.724000e+01</td>\n",
       "      <td>4.898000e+01</td>\n",
       "    </tr>\n",
       "    <tr>\n",
       "      <th>最低</th>\n",
       "      <td>4693.0</td>\n",
       "      <td>1.430233e+01</td>\n",
       "      <td>6.322920e+00</td>\n",
       "      <td>5.050000e+00</td>\n",
       "      <td>1.017000e+01</td>\n",
       "      <td>1.308000e+01</td>\n",
       "      <td>1.668000e+01</td>\n",
       "      <td>4.701000e+01</td>\n",
       "    </tr>\n",
       "    <tr>\n",
       "      <th>成交量</th>\n",
       "      <td>4693.0</td>\n",
       "      <td>6.675073e+05</td>\n",
       "      <td>6.326273e+05</td>\n",
       "      <td>8.748000e+03</td>\n",
       "      <td>2.211390e+05</td>\n",
       "      <td>5.020870e+05</td>\n",
       "      <td>8.969010e+05</td>\n",
       "      <td>5.086050e+06</td>\n",
       "    </tr>\n",
       "    <tr>\n",
       "      <th>成交额</th>\n",
       "      <td>4693.0</td>\n",
       "      <td>9.625261e+08</td>\n",
       "      <td>9.449943e+08</td>\n",
       "      <td>6.962000e+06</td>\n",
       "      <td>3.357000e+08</td>\n",
       "      <td>6.932570e+08</td>\n",
       "      <td>1.283356e+09</td>\n",
       "      <td>8.596942e+09</td>\n",
       "    </tr>\n",
       "    <tr>\n",
       "      <th>振幅</th>\n",
       "      <td>4693.0</td>\n",
       "      <td>3.125250e+00</td>\n",
       "      <td>1.974286e+00</td>\n",
       "      <td>0.000000e+00</td>\n",
       "      <td>1.770000e+00</td>\n",
       "      <td>2.620000e+00</td>\n",
       "      <td>3.940000e+00</td>\n",
       "      <td>1.769000e+01</td>\n",
       "    </tr>\n",
       "    <tr>\n",
       "      <th>涨跌幅</th>\n",
       "      <td>4693.0</td>\n",
       "      <td>3.324952e-02</td>\n",
       "      <td>2.577503e+00</td>\n",
       "      <td>-4.189000e+01</td>\n",
       "      <td>-1.200000e+00</td>\n",
       "      <td>0.000000e+00</td>\n",
       "      <td>1.100000e+00</td>\n",
       "      <td>1.007000e+01</td>\n",
       "    </tr>\n",
       "    <tr>\n",
       "      <th>涨跌额</th>\n",
       "      <td>4693.0</td>\n",
       "      <td>-8.097166e-05</td>\n",
       "      <td>4.696381e-01</td>\n",
       "      <td>-8.060000e+00</td>\n",
       "      <td>-1.500000e-01</td>\n",
       "      <td>0.000000e+00</td>\n",
       "      <td>1.400000e-01</td>\n",
       "      <td>3.450000e+00</td>\n",
       "    </tr>\n",
       "    <tr>\n",
       "      <th>换手率</th>\n",
       "      <td>4693.0</td>\n",
       "      <td>9.193608e-01</td>\n",
       "      <td>8.069908e-01</td>\n",
       "      <td>6.000000e-02</td>\n",
       "      <td>4.100000e-01</td>\n",
       "      <td>6.400000e-01</td>\n",
       "      <td>1.160000e+00</td>\n",
       "      <td>8.400000e+00</td>\n",
       "    </tr>\n",
       "    <tr>\n",
       "      <th>收益率</th>\n",
       "      <td>4693.0</td>\n",
       "      <td>-1.362440e-05</td>\n",
       "      <td>2.635045e-02</td>\n",
       "      <td>-5.428650e-01</td>\n",
       "      <td>-1.208231e-02</td>\n",
       "      <td>0.000000e+00</td>\n",
       "      <td>1.094236e-02</td>\n",
       "      <td>9.594129e-02</td>\n",
       "    </tr>\n",
       "    <tr>\n",
       "      <th>波动率</th>\n",
       "      <td>4693.0</td>\n",
       "      <td>2.205345e-02</td>\n",
       "      <td>1.284654e-02</td>\n",
       "      <td>2.271468e-03</td>\n",
       "      <td>1.396521e-02</td>\n",
       "      <td>1.958256e-02</td>\n",
       "      <td>2.731767e-02</td>\n",
       "      <td>1.366039e-01</td>\n",
       "    </tr>\n",
       "  </tbody>\n",
       "</table>\n",
       "</div>"
      ],
      "text/plain": [
       "      count          mean           std           min           25%  \\\n",
       "开盘   4693.0  1.453420e+01  6.490971e+00  5.090000e+00  1.029000e+01   \n",
       "收盘   4693.0  1.454824e+01  6.489111e+00  5.100000e+00  1.029000e+01   \n",
       "最高   4693.0  1.479196e+01  6.665237e+00  5.230000e+00  1.041000e+01   \n",
       "最低   4693.0  1.430233e+01  6.322920e+00  5.050000e+00  1.017000e+01   \n",
       "成交量  4693.0  6.675073e+05  6.326273e+05  8.748000e+03  2.211390e+05   \n",
       "成交额  4693.0  9.625261e+08  9.449943e+08  6.962000e+06  3.357000e+08   \n",
       "振幅   4693.0  3.125250e+00  1.974286e+00  0.000000e+00  1.770000e+00   \n",
       "涨跌幅  4693.0  3.324952e-02  2.577503e+00 -4.189000e+01 -1.200000e+00   \n",
       "涨跌额  4693.0 -8.097166e-05  4.696381e-01 -8.060000e+00 -1.500000e-01   \n",
       "换手率  4693.0  9.193608e-01  8.069908e-01  6.000000e-02  4.100000e-01   \n",
       "收益率  4693.0 -1.362440e-05  2.635045e-02 -5.428650e-01 -1.208231e-02   \n",
       "波动率  4693.0  2.205345e-02  1.284654e-02  2.271468e-03  1.396521e-02   \n",
       "\n",
       "              50%           75%           max  \n",
       "开盘   1.328000e+01  1.697000e+01  4.711000e+01  \n",
       "收盘   1.329000e+01  1.698000e+01  4.805000e+01  \n",
       "最高   1.350000e+01  1.724000e+01  4.898000e+01  \n",
       "最低   1.308000e+01  1.668000e+01  4.701000e+01  \n",
       "成交量  5.020870e+05  8.969010e+05  5.086050e+06  \n",
       "成交额  6.932570e+08  1.283356e+09  8.596942e+09  \n",
       "振幅   2.620000e+00  3.940000e+00  1.769000e+01  \n",
       "涨跌幅  0.000000e+00  1.100000e+00  1.007000e+01  \n",
       "涨跌额  0.000000e+00  1.400000e-01  3.450000e+00  \n",
       "换手率  6.400000e-01  1.160000e+00  8.400000e+00  \n",
       "收益率  0.000000e+00  1.094236e-02  9.594129e-02  \n",
       "波动率  1.958256e-02  2.731767e-02  1.366039e-01  "
      ]
     },
     "execution_count": 5,
     "metadata": {},
     "output_type": "execute_result"
    }
   ],
   "source": [
    "stock_data.describe().T"
   ]
  },
  {
   "cell_type": "code",
   "execution_count": 6,
   "metadata": {},
   "outputs": [],
   "source": [
    "maxv=1.366039e-01\n",
    "minv=2.271468e-03"
   ]
  },
  {
   "cell_type": "code",
   "execution_count": 7,
   "metadata": {},
   "outputs": [
    {
     "data": {
      "text/html": [
       "<div>\n",
       "<style scoped>\n",
       "    .dataframe tbody tr th:only-of-type {\n",
       "        vertical-align: middle;\n",
       "    }\n",
       "\n",
       "    .dataframe tbody tr th {\n",
       "        vertical-align: top;\n",
       "    }\n",
       "\n",
       "    .dataframe thead th {\n",
       "        text-align: right;\n",
       "    }\n",
       "</style>\n",
       "<table border=\"1\" class=\"dataframe\">\n",
       "  <thead>\n",
       "    <tr style=\"text-align: right;\">\n",
       "      <th></th>\n",
       "      <th>日期</th>\n",
       "      <th>收盘</th>\n",
       "      <th>最高</th>\n",
       "      <th>最低</th>\n",
       "      <th>开盘</th>\n",
       "      <th>波动率</th>\n",
       "      <th>换手率</th>\n",
       "      <th>振幅</th>\n",
       "    </tr>\n",
       "  </thead>\n",
       "  <tbody>\n",
       "    <tr>\n",
       "      <th>0</th>\n",
       "      <td>2004-02-04</td>\n",
       "      <td>10.01</td>\n",
       "      <td>10.08</td>\n",
       "      <td>9.85</td>\n",
       "      <td>9.88</td>\n",
       "      <td>0.022486</td>\n",
       "      <td>1.38</td>\n",
       "      <td>2.34</td>\n",
       "    </tr>\n",
       "    <tr>\n",
       "      <th>1</th>\n",
       "      <td>2004-02-05</td>\n",
       "      <td>10.06</td>\n",
       "      <td>10.28</td>\n",
       "      <td>9.98</td>\n",
       "      <td>10.06</td>\n",
       "      <td>0.023390</td>\n",
       "      <td>1.24</td>\n",
       "      <td>3.00</td>\n",
       "    </tr>\n",
       "    <tr>\n",
       "      <th>2</th>\n",
       "      <td>2004-02-06</td>\n",
       "      <td>10.51</td>\n",
       "      <td>10.98</td>\n",
       "      <td>9.88</td>\n",
       "      <td>10.08</td>\n",
       "      <td>0.021607</td>\n",
       "      <td>3.11</td>\n",
       "      <td>10.93</td>\n",
       "    </tr>\n",
       "    <tr>\n",
       "      <th>3</th>\n",
       "      <td>2004-02-09</td>\n",
       "      <td>10.59</td>\n",
       "      <td>10.74</td>\n",
       "      <td>10.42</td>\n",
       "      <td>10.54</td>\n",
       "      <td>0.021653</td>\n",
       "      <td>1.39</td>\n",
       "      <td>3.04</td>\n",
       "    </tr>\n",
       "    <tr>\n",
       "      <th>4</th>\n",
       "      <td>2004-02-10</td>\n",
       "      <td>10.74</td>\n",
       "      <td>10.95</td>\n",
       "      <td>10.51</td>\n",
       "      <td>10.65</td>\n",
       "      <td>0.022132</td>\n",
       "      <td>1.65</td>\n",
       "      <td>4.15</td>\n",
       "    </tr>\n",
       "    <tr>\n",
       "      <th>...</th>\n",
       "      <td>...</td>\n",
       "      <td>...</td>\n",
       "      <td>...</td>\n",
       "      <td>...</td>\n",
       "      <td>...</td>\n",
       "      <td>...</td>\n",
       "      <td>...</td>\n",
       "      <td>...</td>\n",
       "    </tr>\n",
       "    <tr>\n",
       "      <th>4688</th>\n",
       "      <td>2023-12-22</td>\n",
       "      <td>9.20</td>\n",
       "      <td>9.28</td>\n",
       "      <td>9.11</td>\n",
       "      <td>9.19</td>\n",
       "      <td>0.010233</td>\n",
       "      <td>0.52</td>\n",
       "      <td>1.85</td>\n",
       "    </tr>\n",
       "    <tr>\n",
       "      <th>4689</th>\n",
       "      <td>2023-12-25</td>\n",
       "      <td>9.19</td>\n",
       "      <td>9.20</td>\n",
       "      <td>9.14</td>\n",
       "      <td>9.18</td>\n",
       "      <td>0.010361</td>\n",
       "      <td>0.21</td>\n",
       "      <td>0.65</td>\n",
       "    </tr>\n",
       "    <tr>\n",
       "      <th>4690</th>\n",
       "      <td>2023-12-26</td>\n",
       "      <td>9.10</td>\n",
       "      <td>9.20</td>\n",
       "      <td>9.07</td>\n",
       "      <td>9.19</td>\n",
       "      <td>0.009946</td>\n",
       "      <td>0.28</td>\n",
       "      <td>1.41</td>\n",
       "    </tr>\n",
       "    <tr>\n",
       "      <th>4691</th>\n",
       "      <td>2023-12-27</td>\n",
       "      <td>9.12</td>\n",
       "      <td>9.13</td>\n",
       "      <td>9.02</td>\n",
       "      <td>9.10</td>\n",
       "      <td>0.013541</td>\n",
       "      <td>0.33</td>\n",
       "      <td>1.21</td>\n",
       "    </tr>\n",
       "    <tr>\n",
       "      <th>4692</th>\n",
       "      <td>2023-12-28</td>\n",
       "      <td>9.45</td>\n",
       "      <td>9.47</td>\n",
       "      <td>9.08</td>\n",
       "      <td>9.11</td>\n",
       "      <td>0.013542</td>\n",
       "      <td>0.86</td>\n",
       "      <td>4.28</td>\n",
       "    </tr>\n",
       "  </tbody>\n",
       "</table>\n",
       "<p>4693 rows × 8 columns</p>\n",
       "</div>"
      ],
      "text/plain": [
       "             日期     收盘     最高     最低     开盘       波动率   换手率     振幅\n",
       "0    2004-02-04  10.01  10.08   9.85   9.88  0.022486  1.38   2.34\n",
       "1    2004-02-05  10.06  10.28   9.98  10.06  0.023390  1.24   3.00\n",
       "2    2004-02-06  10.51  10.98   9.88  10.08  0.021607  3.11  10.93\n",
       "3    2004-02-09  10.59  10.74  10.42  10.54  0.021653  1.39   3.04\n",
       "4    2004-02-10  10.74  10.95  10.51  10.65  0.022132  1.65   4.15\n",
       "...         ...    ...    ...    ...    ...       ...   ...    ...\n",
       "4688 2023-12-22   9.20   9.28   9.11   9.19  0.010233  0.52   1.85\n",
       "4689 2023-12-25   9.19   9.20   9.14   9.18  0.010361  0.21   0.65\n",
       "4690 2023-12-26   9.10   9.20   9.07   9.19  0.009946  0.28   1.41\n",
       "4691 2023-12-27   9.12   9.13   9.02   9.10  0.013541  0.33   1.21\n",
       "4692 2023-12-28   9.45   9.47   9.08   9.11  0.013542  0.86   4.28\n",
       "\n",
       "[4693 rows x 8 columns]"
      ]
     },
     "execution_count": 7,
     "metadata": {},
     "output_type": "execute_result"
    }
   ],
   "source": [
    "stock_data['日期'] = pd.to_datetime(stock_data['日期'])\n",
    "stock_data = stock_data.sort_values('日期')\n",
    "stock = stock_data[['日期', '收盘', '最高', '最低', '开盘', '波动率','换手率','振幅']]\n",
    "stock"
   ]
  },
  {
   "cell_type": "code",
   "execution_count": 8,
   "metadata": {},
   "outputs": [],
   "source": [
    "#normalization\n",
    "scaler = MinMaxScaler()\n",
    "normalized_data = stock[['振幅', '最高', '换手率', '收盘', '波动率']].copy()#['开盘', '最高', '最低', '成交量', '收盘']\n",
    "normalized_data = scaler.fit_transform(normalized_data)"
   ]
  },
  {
   "cell_type": "code",
   "execution_count": 9,
   "metadata": {},
   "outputs": [],
   "source": [
    "train_data, test_data = train_test_split(normalized_data, test_size=0.2, shuffle=False)\n",
    "train_df = pd.DataFrame(train_data, columns=['振幅', '最高', '换手率', '收盘', '波动率'])\n",
    "test_df = pd.DataFrame(test_data, columns=['振幅', '最高', '换手率', '收盘', '波动率'])#['开盘', '最高', '最低', '成交量', '收盘']"
   ]
  },
  {
   "cell_type": "code",
   "execution_count": 10,
   "metadata": {},
   "outputs": [],
   "source": [
    "#actual: seqlen-1\n",
    "def generate_sequences(df, seq_length=27):\n",
    "    X = df[['振幅', '最高', '换手率', '收盘', '波动率']].reset_index(drop=True)\n",
    "    y = df[['振幅', '最高', '换手率', '收盘', '波动率']].reset_index(drop=True)\n",
    "\n",
    "    sequences = []\n",
    "    labels = []\n",
    "\n",
    "    for index in range(len(X) - seq_length):\n",
    "        sequences.append(X.iloc[index : index + seq_length].values)\n",
    "        labels.append(y.iloc[index + seq_length ].values)\n",
    "\n",
    "    sequences = np.array(sequences)\n",
    "    labels = np.array(labels)\n",
    "\n",
    "    return sequences, labels\n"
   ]
  },
  {
   "cell_type": "code",
   "execution_count": 11,
   "metadata": {},
   "outputs": [],
   "source": [
    "train_sequences, train_labels = generate_sequences(train_df)\n",
    "test_sequences, test_labels = generate_sequences(test_df)"
   ]
  },
  {
   "cell_type": "code",
   "execution_count": 12,
   "metadata": {},
   "outputs": [
    {
     "name": "stderr",
     "output_type": "stream",
     "text": [
      "WARNING:absl:Compiled the loaded model, but the compiled metrics have yet to be built. `model.compile_metrics` will be empty until you train or evaluate the model.\n"
     ]
    }
   ],
   "source": [
    "from keras.models import load_model\n",
    "\n",
    "# 加载模型\n",
    "model = load_model('my_model.h5')"
   ]
  },
  {
   "cell_type": "code",
   "execution_count": 13,
   "metadata": {},
   "outputs": [
    {
     "name": "stdout",
     "output_type": "stream",
     "text": [
      "\u001b[1m1/1\u001b[0m \u001b[32m━━━━━━━━━━━━━━━━━━━━\u001b[0m\u001b[37m\u001b[0m \u001b[1m0s\u001b[0m 296ms/step\n",
      "\u001b[1m1/1\u001b[0m \u001b[32m━━━━━━━━━━━━━━━━━━━━\u001b[0m\u001b[37m\u001b[0m \u001b[1m0s\u001b[0m 18ms/step\n",
      "\u001b[1m1/1\u001b[0m \u001b[32m━━━━━━━━━━━━━━━━━━━━\u001b[0m\u001b[37m\u001b[0m \u001b[1m0s\u001b[0m 19ms/step\n",
      "\u001b[1m1/1\u001b[0m \u001b[32m━━━━━━━━━━━━━━━━━━━━\u001b[0m\u001b[37m\u001b[0m \u001b[1m0s\u001b[0m 18ms/step\n",
      "\u001b[1m1/1\u001b[0m \u001b[32m━━━━━━━━━━━━━━━━━━━━\u001b[0m\u001b[37m\u001b[0m \u001b[1m0s\u001b[0m 18ms/step\n",
      "\u001b[1m1/1\u001b[0m \u001b[32m━━━━━━━━━━━━━━━━━━━━\u001b[0m\u001b[37m\u001b[0m \u001b[1m0s\u001b[0m 18ms/step\n",
      "\u001b[1m1/1\u001b[0m \u001b[32m━━━━━━━━━━━━━━━━━━━━\u001b[0m\u001b[37m\u001b[0m \u001b[1m0s\u001b[0m 18ms/step\n",
      "\u001b[1m1/1\u001b[0m \u001b[32m━━━━━━━━━━━━━━━━━━━━\u001b[0m\u001b[37m\u001b[0m \u001b[1m0s\u001b[0m 18ms/step\n",
      "\u001b[1m1/1\u001b[0m \u001b[32m━━━━━━━━━━━━━━━━━━━━\u001b[0m\u001b[37m\u001b[0m \u001b[1m0s\u001b[0m 18ms/step\n",
      "\u001b[1m1/1\u001b[0m \u001b[32m━━━━━━━━━━━━━━━━━━━━\u001b[0m\u001b[37m\u001b[0m \u001b[1m0s\u001b[0m 12ms/step\n",
      "\u001b[1m1/1\u001b[0m \u001b[32m━━━━━━━━━━━━━━━━━━━━\u001b[0m\u001b[37m\u001b[0m \u001b[1m0s\u001b[0m 18ms/step\n",
      "(11, 1, 5)\n"
     ]
    }
   ],
   "source": [
    "import numpy as np\n",
    "\n",
    "# 初始输入数据\n",
    "input_data = np.expand_dims(test_sequences[-1], axis=0)  \n",
    "\n",
    "# 循环预测未来十个时间步\n",
    "predictions = []\n",
    "for _ in range(11):\n",
    "    # 进行预测\n",
    "    prediction = model.predict(input_data)\n",
    "    \n",
    "    # 将预测值添加到predictions列表中\n",
    "    predictions.append(prediction)\n",
    "    \n",
    "    # 更新输入数据，将新的预测值加入输入序列\n",
    "    input_data = np.concatenate([input_data[:, 1:, :], np.expand_dims(prediction, axis=1)], axis=1)\n",
    "\n",
    "# 将predictions列表转换为NumPy数组\n",
    "predictions = np.array(predictions)\n",
    "\n",
    "# 打印预测结果的形状\n",
    "print(predictions.shape)  # 应该是 (11, 1, 5)，表示预测了11个时间步，每个时间步有一个样本，每个样本有5个预测值"
   ]
  },
  {
   "cell_type": "code",
   "execution_count": 14,
   "metadata": {},
   "outputs": [
    {
     "data": {
      "text/plain": [
       "array([[0.07610638],\n",
       "       [0.08280192],\n",
       "       [0.08254465],\n",
       "       [0.08315403],\n",
       "       [0.08223198],\n",
       "       [0.0809075 ],\n",
       "       [0.0789685 ],\n",
       "       [0.07676172],\n",
       "       [0.07444593],\n",
       "       [0.07223041],\n",
       "       [0.07022957]], dtype=float32)"
      ]
     },
     "execution_count": 14,
     "metadata": {},
     "output_type": "execute_result"
    }
   ],
   "source": [
    "future_predictions = predictions[:, :, -1]\n",
    "future_predictions"
   ]
  },
  {
   "cell_type": "code",
   "execution_count": 15,
   "metadata": {},
   "outputs": [
    {
     "data": {
      "text/plain": [
       "[array([0.01249502], dtype=float32),\n",
       " array([0.01339445], dtype=float32),\n",
       " array([0.01335989], dtype=float32),\n",
       " array([0.01344175], dtype=float32),\n",
       " array([0.01331789], dtype=float32),\n",
       " array([0.01313997], dtype=float32),\n",
       " array([0.0128795], dtype=float32),\n",
       " array([0.01258306], dtype=float32),\n",
       " array([0.01227197], dtype=float32),\n",
       " array([0.01197435], dtype=float32),\n",
       " array([0.01170558], dtype=float32)]"
      ]
     },
     "execution_count": 15,
     "metadata": {},
     "output_type": "execute_result"
    }
   ],
   "source": [
    "#反归一化\n",
    "future=[]\n",
    "for i in future_predictions:\n",
    "    temp = i*(maxv - minv) + minv\n",
    "    future.append(temp)\n",
    "\n",
    "future"
   ]
  },
  {
   "cell_type": "code",
   "execution_count": 16,
   "metadata": {},
   "outputs": [],
   "source": [
    "future= future[1:]"
   ]
  },
  {
   "cell_type": "code",
   "execution_count": 17,
   "metadata": {},
   "outputs": [
    {
     "name": "stderr",
     "output_type": "stream",
     "text": [
      "WARNING:absl:Compiled the loaded model, but the compiled metrics have yet to be built. `model.compile_metrics` will be empty until you train or evaluate the model.\n"
     ]
    }
   ],
   "source": [
    "model1 = load_model('baseline.h5')"
   ]
  },
  {
   "cell_type": "code",
   "execution_count": 18,
   "metadata": {},
   "outputs": [
    {
     "name": "stdout",
     "output_type": "stream",
     "text": [
      "\u001b[1m1/1\u001b[0m \u001b[32m━━━━━━━━━━━━━━━━━━━━\u001b[0m\u001b[37m\u001b[0m \u001b[1m0s\u001b[0m 100ms/step\n",
      "\u001b[1m1/1\u001b[0m \u001b[32m━━━━━━━━━━━━━━━━━━━━\u001b[0m\u001b[37m\u001b[0m \u001b[1m0s\u001b[0m 12ms/step\n",
      "\u001b[1m1/1\u001b[0m \u001b[32m━━━━━━━━━━━━━━━━━━━━\u001b[0m\u001b[37m\u001b[0m \u001b[1m0s\u001b[0m 15ms/step\n",
      "\u001b[1m1/1\u001b[0m \u001b[32m━━━━━━━━━━━━━━━━━━━━\u001b[0m\u001b[37m\u001b[0m \u001b[1m0s\u001b[0m 16ms/step\n",
      "\u001b[1m1/1\u001b[0m \u001b[32m━━━━━━━━━━━━━━━━━━━━\u001b[0m\u001b[37m\u001b[0m \u001b[1m0s\u001b[0m 16ms/step\n",
      "\u001b[1m1/1\u001b[0m \u001b[32m━━━━━━━━━━━━━━━━━━━━\u001b[0m\u001b[37m\u001b[0m \u001b[1m0s\u001b[0m 16ms/step\n",
      "\u001b[1m1/1\u001b[0m \u001b[32m━━━━━━━━━━━━━━━━━━━━\u001b[0m\u001b[37m\u001b[0m \u001b[1m0s\u001b[0m 17ms/step\n",
      "\u001b[1m1/1\u001b[0m \u001b[32m━━━━━━━━━━━━━━━━━━━━\u001b[0m\u001b[37m\u001b[0m \u001b[1m0s\u001b[0m 16ms/step\n",
      "\u001b[1m1/1\u001b[0m \u001b[32m━━━━━━━━━━━━━━━━━━━━\u001b[0m\u001b[37m\u001b[0m \u001b[1m0s\u001b[0m 18ms/step\n",
      "\u001b[1m1/1\u001b[0m \u001b[32m━━━━━━━━━━━━━━━━━━━━\u001b[0m\u001b[37m\u001b[0m \u001b[1m0s\u001b[0m 15ms/step\n",
      "\u001b[1m1/1\u001b[0m \u001b[32m━━━━━━━━━━━━━━━━━━━━\u001b[0m\u001b[37m\u001b[0m \u001b[1m0s\u001b[0m 16ms/step\n",
      "(11, 1, 5)\n"
     ]
    }
   ],
   "source": [
    "import numpy as np\n",
    "\n",
    "# 初始输入数据\n",
    "input_data = np.expand_dims(test_sequences[-1], axis=0)  \n",
    "\n",
    "# 循环预测未来十个时间步\n",
    "predictions1 = []\n",
    "for _ in range(11):\n",
    "    # 进行预测\n",
    "    prediction1 = model1.predict(input_data)\n",
    "    \n",
    "    # 将预测值添加到predictions列表中\n",
    "    predictions1.append(prediction1)\n",
    "    \n",
    "    # 更新输入数据，将新的预测值加入输入序列\n",
    "    input_data = np.concatenate([input_data[:, 1:, :], np.expand_dims(prediction1, axis=1)], axis=1)\n",
    "\n",
    "# 将predictions列表转换为NumPy数组\n",
    "predictions1 = np.array(predictions1)\n",
    "\n",
    "# 打印预测结果的形状\n",
    "print(predictions1.shape)  # 应该是 (11, 1, 5)，表示预测了11个时间步，每个时间步有一个样本，每个样本有5个预测值"
   ]
  },
  {
   "cell_type": "code",
   "execution_count": 19,
   "metadata": {},
   "outputs": [
    {
     "data": {
      "text/plain": [
       "array([[0.08111549],\n",
       "       [0.08016486],\n",
       "       [0.07900588],\n",
       "       [0.07703891],\n",
       "       [0.07461759],\n",
       "       [0.07201899],\n",
       "       [0.0693735 ],\n",
       "       [0.06676795],\n",
       "       [0.06424843],\n",
       "       [0.0617933 ],\n",
       "       [0.05936119]], dtype=float32)"
      ]
     },
     "execution_count": 19,
     "metadata": {},
     "output_type": "execute_result"
    }
   ],
   "source": [
    "future_predictions1 = predictions1[:, :, -1]\n",
    "future_predictions1"
   ]
  },
  {
   "cell_type": "code",
   "execution_count": 20,
   "metadata": {},
   "outputs": [
    {
     "data": {
      "text/plain": [
       "[array([0.01316791], dtype=float32),\n",
       " array([0.01304021], dtype=float32),\n",
       " array([0.01288452], dtype=float32),\n",
       " array([0.01262029], dtype=float32),\n",
       " array([0.01229503], dtype=float32),\n",
       " array([0.01194595], dtype=float32),\n",
       " array([0.01159058], dtype=float32),\n",
       " array([0.01124057], dtype=float32),\n",
       " array([0.01090212], dtype=float32),\n",
       " array([0.01057231], dtype=float32),\n",
       " array([0.0102456], dtype=float32)]"
      ]
     },
     "execution_count": 20,
     "metadata": {},
     "output_type": "execute_result"
    }
   ],
   "source": [
    "#反归一化\n",
    "another=[]\n",
    "for i in future_predictions1:\n",
    "    temp = i*(maxv - minv) + minv\n",
    "    another.append(temp)\n",
    "\n",
    "another"
   ]
  },
  {
   "cell_type": "code",
   "execution_count": 21,
   "metadata": {},
   "outputs": [],
   "source": [
    "another=another[1:]"
   ]
  },
  {
   "cell_type": "code",
   "execution_count": 22,
   "metadata": {},
   "outputs": [
    {
     "data": {
      "text/plain": [
       "[array([0.01304021], dtype=float32),\n",
       " array([0.01288452], dtype=float32),\n",
       " array([0.01262029], dtype=float32),\n",
       " array([0.01229503], dtype=float32),\n",
       " array([0.01194595], dtype=float32),\n",
       " array([0.01159058], dtype=float32),\n",
       " array([0.01124057], dtype=float32),\n",
       " array([0.01090212], dtype=float32),\n",
       " array([0.01057231], dtype=float32),\n",
       " array([0.0102456], dtype=float32)]"
      ]
     },
     "execution_count": 22,
     "metadata": {},
     "output_type": "execute_result"
    }
   ],
   "source": [
    "another"
   ]
  },
  {
   "cell_type": "code",
   "execution_count": 23,
   "metadata": {},
   "outputs": [],
   "source": [
    "baseline=[0.01088023, 0.01088036, 0.01088036, 0.01088036, 0.01088036,\n",
    "       0.01088036, 0.01088036, 0.01088036, 0.01088036, 0.01088036]  #ARIMA的预测值"
   ]
  },
  {
   "cell_type": "code",
   "execution_count": 24,
   "metadata": {},
   "outputs": [],
   "source": [
    "#another=[0.01304021,0.01288452,0.01262029,0.01229503,0.01194595,\n",
    "#         0.01159058,0.01124057,0.01090212,0.01057231,0.0102456] #baseline 的预测值\n"
   ]
  },
  {
   "cell_type": "code",
   "execution_count": 25,
   "metadata": {},
   "outputs": [
    {
     "data": {
      "image/png": "[encoded data removed]",
      "text/plain": [
       "<Figure size 640x480 with 1 Axes>"
      ]
     },
     "metadata": {},
     "output_type": "display_data"
    }
   ],
   "source": [
    "acdata = pd.read_csv('data333.csv')\n",
    "acdata.tail(21)\n",
    "acdatav=acdata.drop(acdata.tail(6).index)\n",
    "acdatavv=acdatav.tail(10)\n",
    "vdata=acdatavv['波动率'].tolist()\n",
    "vdata1 = [element for element in vdata]  # 使用列表推导式将列列表转换为行列表\n",
    "x=[]\n",
    "for i in range(10):\n",
    "    x.append(i)\n",
    "    \n",
    "plt.plot(x, vdata1,label = 'Actual')\n",
    "plt.plot(x,future, label = 'Model')\n",
    "plt.plot(x,baseline, label = 'ARIMA')\n",
    "plt.plot(x,another, label = 'Baseline')\n",
    "plt.ylim(0.008)\n",
    "\n",
    "plt.legend()\n",
    "plt.show()"
   ]
  },
  {
   "cell_type": "code",
   "execution_count": 26,
   "metadata": {},
   "outputs": [
    {
     "data": {
      "image/png": "[encoded data removed]",
      "text/plain": [
       "<Figure size 640x480 with 1 Axes>"
      ]
     },
     "metadata": {},
     "output_type": "display_data"
    }
   ],
   "source": [
    "\n",
    "plt.plot(x, vdata1,label = 'actual')\n",
    "plt.plot(x,future, label = 'prediction')\n",
    "plt.ylim(0.006)\n",
    "plt.show()\n"
   ]
  },
  {
   "cell_type": "code",
   "execution_count": 27,
   "metadata": {},
   "outputs": [
    {
     "data": {
      "text/plain": [
       "[array([0.01339445], dtype=float32),\n",
       " array([0.01335989], dtype=float32),\n",
       " array([0.01344175], dtype=float32),\n",
       " array([0.01331789], dtype=float32),\n",
       " array([0.01313997], dtype=float32),\n",
       " array([0.0128795], dtype=float32),\n",
       " array([0.01258306], dtype=float32),\n",
       " array([0.01227197], dtype=float32),\n",
       " array([0.01197435], dtype=float32),\n",
       " array([0.01170558], dtype=float32)]"
      ]
     },
     "execution_count": 27,
     "metadata": {},
     "output_type": "execute_result"
    }
   ],
   "source": [
    "future"
   ]
  },
  {
   "cell_type": "code",
   "execution_count": 28,
   "metadata": {},
   "outputs": [
    {
     "name": "stdout",
     "output_type": "stream",
     "text": [
      "MSE: 1.4702531990420136e-06\n",
      "RMSE: 0.0012125399783273184\n",
      "MAE: 0.0008032672471247185\n",
      "NMSE: 0.008909601511203511\n"
     ]
    }
   ],
   "source": [
    "import numpy as np\n",
    "\n",
    "def calculate_errors(true_values, predicted_values):\n",
    "    # 计算均方误差 (MSE)\n",
    "    mse = np.mean((true_values - predicted_values) ** 2)\n",
    "    \n",
    "    # 计算均方根误差 (RMSE)\n",
    "    rmse = np.sqrt(mse)\n",
    "    \n",
    "    # 计算平均绝对误差 (MAE)\n",
    "    mae = np.mean(np.abs(true_values - predicted_values))\n",
    "    \n",
    "    # 计算标准化均方误差 (NMSE)\n",
    "    nmse = np.mean((true_values - predicted_values) ** 2) / np.mean(true_values ** 2)\n",
    "    \n",
    "    return mse, rmse, mae, nmse\n",
    "\n",
    "# 用法示例\n",
    "\n",
    "\n",
    "mse, rmse, mae, nmse = calculate_errors(np.array(vdata), np.array(future))\n",
    "\n",
    "print(\"MSE:\", mse)\n",
    "print(\"RMSE:\", rmse)\n",
    "print(\"MAE:\", mae)\n",
    "print(\"NMSE:\", nmse)"
   ]
  },
  {
   "cell_type": "code",
   "execution_count": 29,
   "metadata": {},
   "outputs": [
    {
     "name": "stdout",
     "output_type": "stream",
     "text": [
      "MSE: 4.799366325982477e-06\n",
      "RMSE: 0.002190745609600183\n",
      "MAE: 0.00215721428378823\n",
      "NMSE: 0.029083726189920577\n"
     ]
    }
   ],
   "source": [
    "mse1, rmse1, mae1, nmse1 = calculate_errors(np.array(vdata), np.array(baseline))\n",
    "print(\"MSE:\", mse1)\n",
    "print(\"RMSE:\", rmse1)\n",
    "print(\"MAE:\", mae1)\n",
    "print(\"NMSE:\", nmse1)"
   ]
  },
  {
   "cell_type": "code",
   "execution_count": 30,
   "metadata": {},
   "outputs": [
    {
     "name": "stdout",
     "output_type": "stream",
     "text": [
      "MSE: 3.1157749402606147e-06\n",
      "RMSE: 0.0017651557835671656\n",
      "MAE: 0.001487465627045663\n",
      "NMSE: 0.018881314548000336\n"
     ]
    }
   ],
   "source": [
    "mse2, rmse2, mae2, nmse2 = calculate_errors(np.array(vdata), np.array(another))\n",
    "print(\"MSE:\", mse2)\n",
    "print(\"RMSE:\", rmse2)\n",
    "print(\"MAE:\", mae2)\n",
    "print(\"NMSE:\", nmse2)"
   ]
  },
  {
   "cell_type": "code",
   "execution_count": 31,
   "metadata": {},
   "outputs": [
    {
     "data": {
      "text/plain": [
       "[0.0131249137493579,\n",
       " 0.0131734367994909,\n",
       " 0.0133231769246612,\n",
       " 0.013156793054789,\n",
       " 0.0126385949414669,\n",
       " 0.0130586776470181,\n",
       " 0.013418074104675,\n",
       " 0.0132007863364994,\n",
       " 0.0132278527594622,\n",
       " 0.0097074134795383]"
      ]
     },
     "execution_count": 31,
     "metadata": {},
     "output_type": "execute_result"
    }
   ],
   "source": [
    "vdata"
   ]
  },
  {
   "cell_type": "code",
   "execution_count": 33,
   "metadata": {},
   "outputs": [
    {
     "data": {
      "image/png": "[encoded data removed]",
      "text/plain": [
       "<Figure size 640x480 with 1 Axes>"
      ]
     },
     "metadata": {},
     "output_type": "display_data"
    }
   ],
   "source": [
    "plt.plot(x,vdata, label = 'Actual')\n",
    "plt.plot(x,baseline,label = 'ARIMA')\n",
    "plt.legend()\n",
    "plt.show()"
   ]
  }
 ],
 "metadata": {
  "kernelspec": {
   "display_name": "base",
   "language": "python",
   "name": "python3"
  },
  "language_info": {
   "codemirror_mode": {
    "name": "ipython",
    "version": 3
   },
   "file_extension": ".py",
   "mimetype": "text/x-python",
   "name": "python",
   "nbconvert_exporter": "python",
   "pygments_lexer": "ipython3",
   "version": "3.10.13"
  }
 },
 "nbformat": 4,
 "nbformat_minor": 2
}
